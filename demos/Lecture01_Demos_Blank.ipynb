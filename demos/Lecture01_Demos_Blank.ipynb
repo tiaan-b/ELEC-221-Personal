{
  "cells": [
    {
      "cell_type": "markdown",
      "id": "a8f297ac-75b9-42fd-b4bc-58275aca9c8e",
      "metadata": {
        "id": "a8f297ac-75b9-42fd-b4bc-58275aca9c8e"
      },
      "source": [
        "# Lecture 01 Demos"
      ]
    },
    {
      "cell_type": "code",
      "execution_count": 1,
      "id": "5a1d8eb3-10d8-48e2-9497-13c1751af99b",
      "metadata": {
        "id": "5a1d8eb3-10d8-48e2-9497-13c1751af99b"
      },
      "outputs": [],
      "source": [
        "import numpy as np\n",
        "import matplotlib.pyplot as plt\n",
        "\n",
        "def stem_plot(n, x_n, limit_axes=2):\n",
        "    fig, ax = plt.subplots(1, 1)\n",
        "    ax.stem(n, x_n)\n",
        "    ax.set_xticks(n)\n",
        "    ax.set_ylim(-limit_axes, limit_axes)\n",
        "    ax.set_xlabel(\"n\", fontsize=14)"
      ]
    },
    {
      "cell_type": "markdown",
      "id": "e3775712-6ab3-44ec-905b-c7856ea208c3",
      "metadata": {
        "id": "e3775712-6ab3-44ec-905b-c7856ea208c3"
      },
      "source": [
        "## Demo 1: shift, scale, and reverse"
      ]
    },
    {
      "cell_type": "code",
      "execution_count": 2,
      "id": "0Tv-xfEm9TzX",
      "metadata": {
        "id": "0Tv-xfEm9TzX"
      },
      "outputs": [],
      "source": [
        "def timeshift(n0, signal):\n",
        "    def shiftedSignal(n):\n",
        "        return signal(n+n0)\n",
        "    return shiftedSignal"
      ]
    },
    {
      "cell_type": "code",
      "execution_count": 3,
      "id": "ec61073a",
      "metadata": {},
      "outputs": [],
      "source": [
        "def ourSignal(n):\n",
        "    return np.sin(2*np.pi*n/20)"
      ]
    },
    {
      "cell_type": "code",
      "execution_count": 4,
      "id": "b044cbdd",
      "metadata": {},
      "outputs": [],
      "source": [
        "n_range = np.arange(0,20)"
      ]
    },
    {
      "cell_type": "code",
      "execution_count": 8,
      "id": "9c5acdf4",
      "metadata": {},
      "outputs": [
        {
          "data": {
            "image/png": "[encoded data removed]",
            "text/plain": [
              "<Figure size 432x288 with 1 Axes>"
            ]
          },
          "metadata": {
            "needs_background": "light"
          },
          "output_type": "display_data"
        }
      ],
      "source": [
        "stem_plot(n_range, ourSignal(n_range))"
      ]
    },
    {
      "cell_type": "code",
      "execution_count": 10,
      "id": "b55f5bcf",
      "metadata": {},
      "outputs": [],
      "source": [
        "shiftedSignal = timeshift(3, ourSignal)"
      ]
    },
    {
      "cell_type": "code",
      "execution_count": 12,
      "id": "87ceed9c",
      "metadata": {},
      "outputs": [
        {
          "data": {
            "image/png": "[encoded data removed]",
            "text/plain": [
              "<Figure size 432x288 with 1 Axes>"
            ]
          },
          "metadata": {
            "needs_background": "light"
          },
          "output_type": "display_data"
        }
      ],
      "source": [
        "stem_plot(n_range, shiftedSignal(n_range))"
      ]
    },
    {
      "cell_type": "code",
      "execution_count": null,
      "id": "00feea77",
      "metadata": {},
      "outputs": [],
      "source": [
        "def timescale(a, signal):\n",
        "    def scaledSignal(n):\n",
        "        return signal(a*n)\n",
        "    return scaledSignal"
      ]
    },
    {
      "cell_type": "markdown",
      "id": "510ee670-d8d9-4665-9b80-9546731bbbfe",
      "metadata": {
        "id": "510ee670-d8d9-4665-9b80-9546731bbbfe"
      },
      "source": [
        "## Demo 2: systems"
      ]
    },
    {
      "cell_type": "code",
      "execution_count": null,
      "id": "r30XqLv19UUO",
      "metadata": {
        "id": "r30XqLv19UUO"
      },
      "outputs": [],
      "source": []
    },
    {
      "cell_type": "markdown",
      "id": "38ef1ee4-b31b-4be6-b0e5-2c9981f1de63",
      "metadata": {
        "id": "38ef1ee4-b31b-4be6-b0e5-2c9981f1de63"
      },
      "source": [
        "## Demo 3: linearity"
      ]
    },
    {
      "cell_type": "markdown",
      "id": "QVi_178GYfn6",
      "metadata": {
        "id": "QVi_178GYfn6"
      },
      "source": [
        "Example 1: $y[n] = x[n-2] - 2x[n-8]$ \n",
        "\n",
        "Example 2: $y[n] = x[n-2]^2$"
      ]
    },
    {
      "cell_type": "code",
      "execution_count": null,
      "id": "fy2I_XYf8xJ2",
      "metadata": {
        "id": "fy2I_XYf8xJ2"
      },
      "outputs": [],
      "source": []
    }
  ],
  "metadata": {
    "colab": {
      "collapsed_sections": [],
      "provenance": []
    },
    "kernelspec": {
      "display_name": "Python 3.9.6 64-bit",
      "language": "python",
      "name": "python3"
    },
    "language_info": {
      "codemirror_mode": {
        "name": "ipython",
        "version": 3
      },
      "file_extension": ".py",
      "mimetype": "text/x-python",
      "name": "python",
      "nbconvert_exporter": "python",
      "pygments_lexer": "ipython3",
      "version": "3.9.6"
    },
    "vscode": {
      "interpreter": {
        "hash": "7e6d5e7838ad5a6f21e653aad162287478f080f67842ffea6b41d6cafcf50439"
      }
    }
  },
  "nbformat": 4,
  "nbformat_minor": 5
}
